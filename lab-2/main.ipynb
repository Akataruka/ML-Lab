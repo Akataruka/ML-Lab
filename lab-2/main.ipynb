{
 "cells": [
  {
   "cell_type": "markdown",
   "id": "88e55589",
   "metadata": {},
   "source": [
    "### Import the libraries"
   ]
  },
  {
   "cell_type": "code",
   "execution_count": 1,
   "id": "b9427c7f",
   "metadata": {},
   "outputs": [],
   "source": [
    "import pandas as pd"
   ]
  },
  {
   "cell_type": "markdown",
   "id": "2d3035f6",
   "metadata": {},
   "source": [
    "### Import the dataset"
   ]
  },
  {
   "cell_type": "code",
   "execution_count": 2,
   "id": "4d317608",
   "metadata": {},
   "outputs": [],
   "source": [
    "df = pd.read_csv(\"iris.csv\")"
   ]
  },
  {
   "cell_type": "markdown",
   "id": "ab14259a",
   "metadata": {},
   "source": [
    "### Calculate the mean , mode, variance, standard deviation"
   ]
  },
  {
   "cell_type": "code",
   "execution_count": 3,
   "id": "ca84b76e",
   "metadata": {},
   "outputs": [
    {
     "name": "stdout",
     "output_type": "stream",
     "text": [
      "Dataset Preview:\n",
      "    Id  SepalLengthCm  SepalWidthCm  PetalLengthCm  PetalWidthCm      Species\n",
      "0   1            5.1           3.5            1.4           0.2  Iris-setosa\n",
      "1   2            4.9           3.0            1.4           0.2  Iris-setosa\n",
      "2   3            4.7           3.2            1.3           0.2  Iris-setosa\n",
      "3   4            4.6           3.1            1.5           0.2  Iris-setosa\n",
      "4   5            5.0           3.6            1.4           0.2  Iris-setosa \n",
      "\n",
      "Range:\n",
      " Id               149.0\n",
      "SepalLengthCm      3.6\n",
      "SepalWidthCm       2.4\n",
      "PetalLengthCm      5.9\n",
      "PetalWidthCm       2.4\n",
      "dtype: float64 \n",
      "\n",
      "Q1 (25th Percentile):\n",
      " Id               38.25\n",
      "SepalLengthCm     5.10\n",
      "SepalWidthCm      2.80\n",
      "PetalLengthCm     1.60\n",
      "PetalWidthCm      0.30\n",
      "Name: 0.25, dtype: float64 \n",
      "\n",
      "Q3 (75th Percentile):\n",
      " Id               112.75\n",
      "SepalLengthCm      6.40\n",
      "SepalWidthCm       3.30\n",
      "PetalLengthCm      5.10\n",
      "PetalWidthCm       1.80\n",
      "Name: 0.75, dtype: float64 \n",
      "\n",
      "Interquartile Range (IQR):\n",
      " Id               74.5\n",
      "SepalLengthCm     1.3\n",
      "SepalWidthCm      0.5\n",
      "PetalLengthCm     3.5\n",
      "PetalWidthCm      1.5\n",
      "dtype: float64 \n",
      "\n"
     ]
    }
   ],
   "source": [
    "# Preview dataset\n",
    "print(\"Dataset Preview:\\n\", df.head(), \"\\n\")\n",
    "\n",
    "# Range = Max - Min\n",
    "range_vals = df.max(numeric_only=True) - df.min(numeric_only=True)\n",
    "print(\"Range:\\n\", range_vals, \"\\n\")\n",
    "\n",
    "# Q1 (25th percentile)\n",
    "Q1 = df.quantile(0.25, numeric_only=True)\n",
    "\n",
    "# Q3 (75th percentile)\n",
    "Q3 = df.quantile(0.75, numeric_only=True)\n",
    "\n",
    "# IQR = Q3 - Q1\n",
    "IQR = Q3 - Q1\n",
    "\n",
    "print(\"Q1 (25th Percentile):\\n\", Q1, \"\\n\")\n",
    "print(\"Q3 (75th Percentile):\\n\", Q3, \"\\n\")\n",
    "print(\"Interquartile Range (IQR):\\n\", IQR, \"\\n\")"
   ]
  },
  {
   "cell_type": "code",
   "execution_count": null,
   "id": "360778ac",
   "metadata": {},
   "outputs": [],
   "source": []
  }
 ],
 "metadata": {
  "kernelspec": {
   "display_name": "Python 3",
   "language": "python",
   "name": "python3"
  },
  "language_info": {
   "codemirror_mode": {
    "name": "ipython",
    "version": 3
   },
   "file_extension": ".py",
   "mimetype": "text/x-python",
   "name": "python",
   "nbconvert_exporter": "python",
   "pygments_lexer": "ipython3",
   "version": "3.7.0"
  }
 },
 "nbformat": 4,
 "nbformat_minor": 5
}
