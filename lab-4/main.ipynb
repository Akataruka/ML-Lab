{
 "cells": [
  {
   "cell_type": "markdown",
   "id": "88e55589",
   "metadata": {},
   "source": [
    "### Import the libraries"
   ]
  },
  {
   "cell_type": "code",
   "execution_count": 1,
   "id": "b9427c7f",
   "metadata": {},
   "outputs": [],
   "source": [
    "import pandas as pd"
   ]
  },
  {
   "cell_type": "markdown",
   "id": "2d3035f6",
   "metadata": {},
   "source": [
    "### Import the dataset"
   ]
  },
  {
   "cell_type": "code",
   "execution_count": 2,
   "id": "4d317608",
   "metadata": {},
   "outputs": [],
   "source": [
    "df = pd.read_csv(\"iris.csv\")"
   ]
  },
  {
   "cell_type": "markdown",
   "id": "ab14259a",
   "metadata": {},
   "source": [
    "### chi square test"
   ]
  },
  {
   "cell_type": "code",
   "execution_count": 3,
   "id": "088f8d72",
   "metadata": {},
   "outputs": [
    {
     "name": "stdout",
     "output_type": "stream",
     "text": [
      "Chi-Square Test:\n",
      "Chi2: 256.52173913043475 p-value: 2.561410449304364e-54 Degrees of Freedom: 4 \n",
      "\n"
     ]
    }
   ],
   "source": [
    "import numpy as np\n",
    "from scipy.stats import chi2_contingency, pearsonr\n",
    "\n",
    "# 1. Chi-Square Test (species vs discretized petal length)\n",
    "df[\"petal_length_cat\"] = pd.cut(df[\"PetalLengthCm\"], bins=3, labels=[\"Short\", \"Medium\", \"Long\"])\n",
    "contingency = pd.crosstab(df[\"Species\"], df[\"petal_length_cat\"])\n",
    "chi2, p, dof, expected = chi2_contingency(contingency)\n",
    "print(\"Chi-Square Test:\")\n",
    "print(\"Chi2:\", chi2, \"p-value:\", p, \"Degrees of Freedom:\", dof, \"\\n\")\n"
   ]
  },
  {
   "cell_type": "markdown",
   "id": "e2bcbf73",
   "metadata": {},
   "source": [
    "### Pearson correlation "
   ]
  },
  {
   "cell_type": "code",
   "execution_count": 4,
   "id": "94804e48",
   "metadata": {},
   "outputs": [
    {
     "name": "stdout",
     "output_type": "stream",
     "text": [
      "Pearson Correlation (sepal length vs petal length): 0.8717541573048714 p-value: 1.0384540627940487e-47 \n",
      "\n"
     ]
    }
   ],
   "source": [
    "\n",
    "# 2. Pearson Correlation (sepal length vs petal length)\n",
    "corr, p_value = pearsonr(df[\"SepalLengthCm\"], df[\"PetalLengthCm\"])\n",
    "print(\"Pearson Correlation (sepal length vs petal length):\", corr, \"p-value:\", p_value, \"\\n\")\n"
   ]
  },
  {
   "cell_type": "markdown",
   "id": "0b801953",
   "metadata": {},
   "source": [
    "### Covariance \n"
   ]
  },
  {
   "cell_type": "code",
   "execution_count": 5,
   "id": "a8b3759e",
   "metadata": {},
   "outputs": [
    {
     "name": "stdout",
     "output_type": "stream",
     "text": [
      "Covariance Matrix:\n",
      "                         Id  SepalLengthCm  SepalWidthCm  PetalLengthCm  \\\n",
      "Id             1887.500000      25.782886     -7.492282      67.667785   \n",
      "SepalLengthCm    25.782886       0.685694     -0.039268       1.273682   \n",
      "SepalWidthCm     -7.492282      -0.039268      0.188004      -0.321713   \n",
      "PetalLengthCm    67.667785       1.273682     -0.321713       3.113179   \n",
      "PetalWidthCm     29.832215       0.516904     -0.117981       1.296387   \n",
      "\n",
      "               PetalWidthCm  \n",
      "Id                29.832215  \n",
      "SepalLengthCm      0.516904  \n",
      "SepalWidthCm      -0.117981  \n",
      "PetalLengthCm      1.296387  \n",
      "PetalWidthCm       0.582414   \n",
      "\n"
     ]
    }
   ],
   "source": [
    "\n",
    "# 3. Covariance Matrix\n",
    "print(\"Covariance Matrix:\\n\", df.drop(columns=[\"Species\",\"petal_length_cat\"]).cov(), \"\\n\")\n"
   ]
  },
  {
   "cell_type": "markdown",
   "id": "abd92e62",
   "metadata": {},
   "source": [
    "### Null hypothesis \n"
   ]
  },
  {
   "cell_type": "code",
   "execution_count": 6,
   "id": "e6f0fb92",
   "metadata": {},
   "outputs": [
    {
     "name": "stdout",
     "output_type": "stream",
     "text": [
      "Null Hypothesis (H0): There is no relationship between the variables.\n"
     ]
    }
   ],
   "source": [
    "\n",
    "# 4. Null & Alternative Hypotheses\n",
    "print(\"Null Hypothesis (H0): There is no relationship between the variables.\")\n"
   ]
  },
  {
   "cell_type": "markdown",
   "id": "227bb87b",
   "metadata": {},
   "source": [
    "### Alt hypothesis"
   ]
  },
  {
   "cell_type": "code",
   "execution_count": 7,
   "id": "a825bcae",
   "metadata": {},
   "outputs": [
    {
     "name": "stdout",
     "output_type": "stream",
     "text": [
      "Alternative Hypothesis (H1): There exists a relationship between the variables.\n",
      "\n"
     ]
    }
   ],
   "source": [
    "print(\"Alternative Hypothesis (H1): There exists a relationship between the variables.\\n\")"
   ]
  },
  {
   "cell_type": "code",
   "execution_count": null,
   "id": "1b6489fb",
   "metadata": {},
   "outputs": [],
   "source": []
  }
 ],
 "metadata": {
  "kernelspec": {
   "display_name": "Python 3",
   "language": "python",
   "name": "python3"
  },
  "language_info": {
   "codemirror_mode": {
    "name": "ipython",
    "version": 3
   },
   "file_extension": ".py",
   "mimetype": "text/x-python",
   "name": "python",
   "nbconvert_exporter": "python",
   "pygments_lexer": "ipython3",
   "version": "3.7.0"
  }
 },
 "nbformat": 4,
 "nbformat_minor": 5
}
